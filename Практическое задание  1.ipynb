{
 "cells": [
  {
   "cell_type": "markdown",
   "metadata": {
    "id": "aU5YNMH9kVqP"
   },
   "source": [
    "## Практическое задание 1"
   ]
  },
  {
   "cell_type": "markdown",
   "metadata": {},
   "source": [
    "#### Запишем сразу все функции для комбинаторики"
   ]
  },
  {
   "cell_type": "markdown",
   "metadata": {
    "id": "zjQq1-wrsFKC"
   },
   "source": [
    "Число **сочетаний** из $n$ элементов по $k$ элементов в каждом (в сочетаниях порядок не важен):"
   ]
  },
  {
   "cell_type": "markdown",
   "metadata": {
    "id": "PW2lximGsFKC"
   },
   "source": [
    "$$C_n^k = \\frac{n!}{k!(n - k)!}$$"
   ]
  },
  {
   "cell_type": "code",
   "execution_count": 1,
   "metadata": {
    "id": "iFH05AQwKlNl"
   },
   "outputs": [],
   "source": [
    "from math import factorial"
   ]
  },
  {
   "cell_type": "code",
   "execution_count": 2,
   "metadata": {
    "id": "XqmC5AY8I_Ie"
   },
   "outputs": [],
   "source": [
    "def combinations(n, k):\n",
    "    return int(factorial(n) / (factorial(k) * factorial(n - k)))"
   ]
  },
  {
   "cell_type": "markdown",
   "metadata": {
    "id": "bqnvhGwnsFKE"
   },
   "source": [
    "Число **размещений** из $n$ элементов по $k$ элементов в каждом. При размещениях порядок важен, поэтому вариантов размещения может быть больше, чем сочетаний при заданных $k$  и $n$."
   ]
  },
  {
   "cell_type": "markdown",
   "metadata": {
    "id": "ITiiVKPWsFKF"
   },
   "source": [
    "$$A_n^k = \\frac{n!}{(n - k)!}$$"
   ]
  },
  {
   "cell_type": "code",
   "execution_count": 3,
   "metadata": {
    "id": "aRmxVO1vwvEY"
   },
   "outputs": [],
   "source": [
    "def arrangements(n, k):\n",
    "    return int(factorial(n) / factorial(n - k))"
   ]
  },
  {
   "cell_type": "markdown",
   "metadata": {
    "id": "1K0UMRiisFKG"
   },
   "source": [
    "Число **перестановок** из $n$ элементов — при перестановках важен порядок, но отличие от размещений в том, что применяются все имеющиеся $n$ элементов:"
   ]
  },
  {
   "cell_type": "markdown",
   "metadata": {
    "id": "8HZXUfJcsFKI"
   },
   "source": [
    "$$P_n = n!$$"
   ]
  },
  {
   "cell_type": "code",
   "execution_count": 4,
   "metadata": {
    "id": "ktyYJlBLPfP5"
   },
   "outputs": [],
   "source": [
    "def permutations(n):\n",
    "    return int(factorial(n))"
   ]
  },
  {
   "cell_type": "markdown",
   "metadata": {},
   "source": [
    "### _1_ Из колоды в 52 карты извлекаются случайным образом 4 карты.  \n",
    "   ##### a) Найти вероятность того, что все карты – крести.  \n",
    "Ответ:  \n",
    "Рассчитаем сколькими способами можно вытащить 4 карты из колоды, состоящей из 52 карт"
   ]
  },
  {
   "cell_type": "code",
   "execution_count": 5,
   "metadata": {},
   "outputs": [
    {
     "data": {
      "text/plain": [
       "270725"
      ]
     },
     "execution_count": 5,
     "metadata": {},
     "output_type": "execute_result"
    }
   ],
   "source": [
    "combinations(52, 4)"
   ]
  },
  {
   "cell_type": "markdown",
   "metadata": {},
   "source": [
    "Рассчитаем сколькими способами можно вытащить 4 крести из 13 возможных "
   ]
  },
  {
   "cell_type": "code",
   "execution_count": 6,
   "metadata": {},
   "outputs": [
    {
     "data": {
      "text/plain": [
       "715"
      ]
     },
     "execution_count": 6,
     "metadata": {},
     "output_type": "execute_result"
    }
   ],
   "source": [
    "combinations(13, 4)"
   ]
  },
  {
   "cell_type": "markdown",
   "metadata": {},
   "source": [
    "По формуле $$P(A) = \\frac{m}{n}$$ найдем ввероятность"
   ]
  },
  {
   "cell_type": "code",
   "execution_count": 7,
   "metadata": {
    "scrolled": true
   },
   "outputs": [
    {
     "data": {
      "text/plain": [
       "0.0026410564225690276"
      ]
     },
     "execution_count": 7,
     "metadata": {},
     "output_type": "execute_result"
    }
   ],
   "source": [
    "P = combinations(13, 4)/combinations(52, 4)\n",
    "P"
   ]
  },
  {
   "cell_type": "markdown",
   "metadata": {},
   "source": [
    "##### Ответ:  Вероятность того, что все карты – крести = 0.0026410564225690276"
   ]
  },
  {
   "cell_type": "markdown",
   "metadata": {},
   "source": [
    "##### б) Найти вероятность, что среди 4-х карт окажется хотя бы один туз."
   ]
  },
  {
   "cell_type": "markdown",
   "metadata": {},
   "source": [
    "В данной сиуации возможно 4 варианта: 1, 2, 3 или 4 туза. Рассмтрим каждый случай и сложим вероятности."
   ]
  },
  {
   "cell_type": "markdown",
   "metadata": {
    "collapsed": true,
    "id": "oVx_8V1VsFKV"
   },
   "source": [
    "Рассмотрим первую ситуацию, когда выбирается один туз из четырех.\n",
    "\n",
    "Число таких сочетаний будет равно:"
   ]
  },
  {
   "cell_type": "code",
   "execution_count": 8,
   "metadata": {
    "colab": {
     "base_uri": "https://localhost:8080/"
    },
    "id": "I0G2chFhXdp2",
    "outputId": "f31ae7a0-8bed-4c26-a969-abe98785c51e",
    "scrolled": true
   },
   "outputs": [
    {
     "data": {
      "text/plain": [
       "4"
      ]
     },
     "execution_count": 8,
     "metadata": {},
     "output_type": "execute_result"
    }
   ],
   "source": [
    "combinations(4, 1)"
   ]
  },
  {
   "cell_type": "markdown",
   "metadata": {
    "id": "vR8Bgd_GsFKW"
   },
   "source": [
    "Остальные три карты выбираются из 48 карт  — тузы не рассматривается, так как он уже выбраны:"
   ]
  },
  {
   "cell_type": "code",
   "execution_count": 9,
   "metadata": {
    "colab": {
     "base_uri": "https://localhost:8080/"
    },
    "id": "cYJcvTuVXn6G",
    "outputId": "84add40e-0408-4334-a377-63a487327d5e"
   },
   "outputs": [
    {
     "data": {
      "text/plain": [
       "17296"
      ]
     },
     "execution_count": 9,
     "metadata": {},
     "output_type": "execute_result"
    }
   ],
   "source": [
    "combinations(48, 3)"
   ]
  },
  {
   "cell_type": "markdown",
   "metadata": {
    "id": "K-J4j6BnsFKY"
   },
   "source": [
    "И в этом случае будет такое число сочетаний, когда из колоды, в которой 52 карты, выбраны четыре, одна из которых — туз:"
   ]
  },
  {
   "cell_type": "code",
   "execution_count": 10,
   "metadata": {
    "colab": {
     "base_uri": "https://localhost:8080/"
    },
    "id": "LQnsS5ADYGuP",
    "outputId": "5c368b27-3e74-4aac-84ba-e49a53c2d498"
   },
   "outputs": [
    {
     "data": {
      "text/plain": [
       "69184"
      ]
     },
     "execution_count": 10,
     "metadata": {},
     "output_type": "execute_result"
    }
   ],
   "source": [
    "4 * 17296"
   ]
  },
  {
   "cell_type": "markdown",
   "metadata": {
    "collapsed": true,
    "id": "oVx_8V1VsFKV"
   },
   "source": [
    "Рассмотрим вторую ситуацию, когда выбирается два туза из четырех.\n",
    "\n",
    "Число таких сочетаний будет равно:"
   ]
  },
  {
   "cell_type": "code",
   "execution_count": 11,
   "metadata": {
    "colab": {
     "base_uri": "https://localhost:8080/"
    },
    "id": "I0G2chFhXdp2",
    "outputId": "f31ae7a0-8bed-4c26-a969-abe98785c51e",
    "scrolled": true
   },
   "outputs": [
    {
     "data": {
      "text/plain": [
       "6"
      ]
     },
     "execution_count": 11,
     "metadata": {},
     "output_type": "execute_result"
    }
   ],
   "source": [
    "combinations(4, 2)"
   ]
  },
  {
   "cell_type": "markdown",
   "metadata": {
    "id": "vR8Bgd_GsFKW"
   },
   "source": [
    "Остальные две карты выбираются из 48 карт  — тузы не рассматривается, так как они уже выбраны:"
   ]
  },
  {
   "cell_type": "code",
   "execution_count": 12,
   "metadata": {
    "colab": {
     "base_uri": "https://localhost:8080/"
    },
    "id": "cYJcvTuVXn6G",
    "outputId": "84add40e-0408-4334-a377-63a487327d5e"
   },
   "outputs": [
    {
     "data": {
      "text/plain": [
       "1128"
      ]
     },
     "execution_count": 12,
     "metadata": {},
     "output_type": "execute_result"
    }
   ],
   "source": [
    "combinations(48, 2)"
   ]
  },
  {
   "cell_type": "markdown",
   "metadata": {
    "id": "K-J4j6BnsFKY"
   },
   "source": [
    "И в этом случае будет такое число сочетаний, когда из колоды, в которой 52 карты, выбраны четыре, две из которых — туз:"
   ]
  },
  {
   "cell_type": "code",
   "execution_count": 13,
   "metadata": {
    "colab": {
     "base_uri": "https://localhost:8080/"
    },
    "id": "LQnsS5ADYGuP",
    "outputId": "5c368b27-3e74-4aac-84ba-e49a53c2d498",
    "scrolled": true
   },
   "outputs": [
    {
     "data": {
      "text/plain": [
       "6768"
      ]
     },
     "execution_count": 13,
     "metadata": {},
     "output_type": "execute_result"
    }
   ],
   "source": [
    "6 * 1128"
   ]
  },
  {
   "cell_type": "markdown",
   "metadata": {
    "collapsed": true,
    "id": "oVx_8V1VsFKV"
   },
   "source": [
    "Рассмотрим третью ситуацию, когда выбираются три туза из четырех.\n",
    "\n",
    "Число таких сочетаний будет равно:"
   ]
  },
  {
   "cell_type": "code",
   "execution_count": 14,
   "metadata": {
    "colab": {
     "base_uri": "https://localhost:8080/"
    },
    "id": "I0G2chFhXdp2",
    "outputId": "f31ae7a0-8bed-4c26-a969-abe98785c51e",
    "scrolled": true
   },
   "outputs": [
    {
     "data": {
      "text/plain": [
       "4"
      ]
     },
     "execution_count": 14,
     "metadata": {},
     "output_type": "execute_result"
    }
   ],
   "source": [
    "combinations(4, 3)"
   ]
  },
  {
   "cell_type": "markdown",
   "metadata": {
    "id": "vR8Bgd_GsFKW"
   },
   "source": [
    "Оставшаяся карта выбираются из 48 карт  — тузы не рассматривается, так как они уже выбраны:"
   ]
  },
  {
   "cell_type": "code",
   "execution_count": 15,
   "metadata": {
    "colab": {
     "base_uri": "https://localhost:8080/"
    },
    "id": "cYJcvTuVXn6G",
    "outputId": "84add40e-0408-4334-a377-63a487327d5e"
   },
   "outputs": [
    {
     "data": {
      "text/plain": [
       "48"
      ]
     },
     "execution_count": 15,
     "metadata": {},
     "output_type": "execute_result"
    }
   ],
   "source": [
    "combinations(48, 1)"
   ]
  },
  {
   "cell_type": "markdown",
   "metadata": {
    "id": "K-J4j6BnsFKY"
   },
   "source": [
    "И в этом случае будет такое число сочетаний, когда из колоды, в которой 52 карты, выбраны четыре, три из которых — туз:"
   ]
  },
  {
   "cell_type": "code",
   "execution_count": 16,
   "metadata": {
    "colab": {
     "base_uri": "https://localhost:8080/"
    },
    "id": "LQnsS5ADYGuP",
    "outputId": "5c368b27-3e74-4aac-84ba-e49a53c2d498",
    "scrolled": true
   },
   "outputs": [
    {
     "data": {
      "text/plain": [
       "192"
      ]
     },
     "execution_count": 16,
     "metadata": {},
     "output_type": "execute_result"
    }
   ],
   "source": [
    "4 * 48"
   ]
  },
  {
   "cell_type": "markdown",
   "metadata": {
    "collapsed": true,
    "id": "oVx_8V1VsFKV"
   },
   "source": [
    "Рассмотрим последнюю ситуацию, когда выбираются четыре туза из четырех.\n",
    "\n",
    "Число таких сочетаний будет равно:"
   ]
  },
  {
   "cell_type": "code",
   "execution_count": 17,
   "metadata": {
    "colab": {
     "base_uri": "https://localhost:8080/"
    },
    "id": "I0G2chFhXdp2",
    "outputId": "f31ae7a0-8bed-4c26-a969-abe98785c51e",
    "scrolled": true
   },
   "outputs": [
    {
     "data": {
      "text/plain": [
       "1"
      ]
     },
     "execution_count": 17,
     "metadata": {},
     "output_type": "execute_result"
    }
   ],
   "source": [
    "combinations(4, 4)"
   ]
  },
  {
   "cell_type": "markdown",
   "metadata": {
    "id": "vR8Bgd_GsFKW"
   },
   "source": [
    "Оставшаяся карта не выбираются, так как все карты уже выбраны"
   ]
  },
  {
   "cell_type": "markdown",
   "metadata": {
    "id": "K-J4j6BnsFKY"
   },
   "source": [
    "И в этом случае будет такое число сочетаний, когда из колоды, в которой 52 карты, выбраны четыре, и все тузы: 1"
   ]
  },
  {
   "cell_type": "markdown",
   "metadata": {},
   "source": [
    "Оющее количесво исходов равно:"
   ]
  },
  {
   "cell_type": "code",
   "execution_count": 18,
   "metadata": {
    "colab": {
     "base_uri": "https://localhost:8080/"
    },
    "id": "I0G2chFhXdp2",
    "outputId": "f31ae7a0-8bed-4c26-a969-abe98785c51e",
    "scrolled": true
   },
   "outputs": [
    {
     "data": {
      "text/plain": [
       "194580"
      ]
     },
     "execution_count": 18,
     "metadata": {},
     "output_type": "execute_result"
    }
   ],
   "source": [
    "combinations(48, 4)"
   ]
  },
  {
   "cell_type": "markdown",
   "metadata": {},
   "source": [
    "Теперь найдем и сложим вероятности:"
   ]
  },
  {
   "cell_type": "code",
   "execution_count": 19,
   "metadata": {},
   "outputs": [
    {
     "data": {
      "text/plain": [
       "0.2812632745405855"
      ]
     },
     "execution_count": 19,
     "metadata": {},
     "output_type": "execute_result"
    }
   ],
   "source": [
    "69184/270725+6768/270725+192/270725+1/270725"
   ]
  },
  {
   "cell_type": "markdown",
   "metadata": {},
   "source": [
    "##### Ответ:  Вероятность того, что среди 4-х карт окажется хотя бы один туз = 0.2812632745405855"
   ]
  },
  {
   "cell_type": "markdown",
   "metadata": {},
   "source": [
    "### _2_ На входной двери подъезда установлен кодовый замок, содержащий десять кнопок с цифрами от 0 до 9. Код содержит три цифры, которые нужно нажать одновременно. Какова вероятность того, что человек, не знающий код, откроет дверь с первой попытки?"
   ]
  },
  {
   "cell_type": "markdown",
   "metadata": {},
   "source": [
    "Применяем формулу: Р = число исходов, благоприятствующих нашему событию / общее число исходов.  \n",
    "Код один, поэтому число исходов, благоприятствующих нашему событию = 1.  \n",
    "В данной задаче порядок не имеет значения, поскольку кнопки нажиаются одновременно. Следовательно, общее число исходов равычисляем по формуле сочетаний. "
   ]
  },
  {
   "cell_type": "code",
   "execution_count": 20,
   "metadata": {},
   "outputs": [
    {
     "data": {
      "text/plain": [
       "120"
      ]
     },
     "execution_count": 20,
     "metadata": {},
     "output_type": "execute_result"
    }
   ],
   "source": [
    "combinations(10, 3)"
   ]
  },
  {
   "cell_type": "markdown",
   "metadata": {},
   "source": [
    "Далее получаем P = 1/120"
   ]
  },
  {
   "cell_type": "markdown",
   "metadata": {},
   "source": [
    "### _3_ В ящике имеется 15 деталей, из которых 9 окрашены. Рабочий случайным образом извлекает 3 детали. Какова вероятность того, что все извлеченные детали окрашены?"
   ]
  },
  {
   "cell_type": "markdown",
   "metadata": {},
   "source": [
    "Применяем формулу: Р = число исходов, благоприятствующих нашему событию / общее число исходов.  \n",
    "Число благоприятных исходов равно числу способов, которыми можно извлечь 3 детали из 9 окрашенных. Порядок значения не имеет, поэтому используем формулу сочетаний.\n",
    "Общее число исходов равно числу способов, которыми можно извлечь 3 детали из 15. Порядок значения не имеет, поэтому используем формулу сочетаний. Далее считаем по формуле:"
   ]
  },
  {
   "cell_type": "code",
   "execution_count": 21,
   "metadata": {
    "scrolled": true
   },
   "outputs": [
    {
     "data": {
      "text/plain": [
       "0.18461538461538463"
      ]
     },
     "execution_count": 21,
     "metadata": {},
     "output_type": "execute_result"
    }
   ],
   "source": [
    "P = combinations(9, 3)/combinations(15, 3)\n",
    "P"
   ]
  },
  {
   "cell_type": "markdown",
   "metadata": {},
   "source": [
    "##### Ответ:  Вероятность того, что все извлеченные детали окрашены = 0.18461538461538463"
   ]
  },
  {
   "cell_type": "markdown",
   "metadata": {},
   "source": [
    "### _4_ В лотерее 100 билетов. Из них 2 выигрышных. Какова вероятность того, что 2 приобретенных билета окажутся выигрышными?"
   ]
  },
  {
   "cell_type": "markdown",
   "metadata": {},
   "source": [
    "Применяем формулу: Р = число исходов, благоприятствующих нашему событию / общее число исходов.  \n",
    "Число благоприятных исходов равно числу способов, которыми можно купить 2 билета из 2. Порядок значения не имеет, поэтому используем формулу сочетаний.\n",
    "Общее число исходов равно равно числу способов, которыми можно купить 2 билета из 100. Порядок значения не имеет, поэтому используем формулу сочетаний. Далее считаем по формуле:"
   ]
  },
  {
   "cell_type": "code",
   "execution_count": 22,
   "metadata": {},
   "outputs": [
    {
     "data": {
      "text/plain": [
       "0.00020202020202020202"
      ]
     },
     "execution_count": 22,
     "metadata": {},
     "output_type": "execute_result"
    }
   ],
   "source": [
    "P = combinations(2, 2)/combinations(100, 2)\n",
    "P"
   ]
  },
  {
   "cell_type": "markdown",
   "metadata": {},
   "source": [
    "##### Ответ:  Вероятность того, что 2 приобретенных билета окажутся выигрышными = 0.00020202020202020202"
   ]
  }
 ],
 "metadata": {
  "kernelspec": {
   "display_name": "Python 3",
   "language": "python",
   "name": "python3"
  },
  "language_info": {
   "codemirror_mode": {
    "name": "ipython",
    "version": 3
   },
   "file_extension": ".py",
   "mimetype": "text/x-python",
   "name": "python",
   "nbconvert_exporter": "python",
   "pygments_lexer": "ipython3",
   "version": "3.7.4"
  }
 },
 "nbformat": 4,
 "nbformat_minor": 2
}
