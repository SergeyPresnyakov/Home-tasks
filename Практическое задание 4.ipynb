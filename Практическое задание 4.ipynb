{
 "cells": [
  {
   "cell_type": "markdown",
   "metadata": {
    "id": "aU5YNMH9kVqP"
   },
   "source": [
    "## Практическое задание 4"
   ]
  },
  {
   "cell_type": "code",
   "execution_count": 1,
   "metadata": {},
   "outputs": [],
   "source": [
    "import numpy as np\n",
    "import pandas as pd\n",
    "import matplotlib.pyplot as plt\n",
    "import warnings\n",
    "warnings.filterwarnings('ignore')"
   ]
  },
  {
   "cell_type": "markdown",
   "metadata": {},
   "source": [
    "#### _1_ Случайная непрерывная величина A имеет равномерное распределение на промежутке (200, 800].\n",
    "Найдите ее среднее значение и дисперсию."
   ]
  },
  {
   "cell_type": "markdown",
   "metadata": {
    "id": "33P919A0i6VG"
   },
   "source": [
    "Математическое ожидание $M(X)$ (среднее значение) равномерно распределенной непрерывной случайной величины можно вычислить по формуле:"
   ]
  },
  {
   "cell_type": "markdown",
   "metadata": {
    "id": "RAd-f2e-i6VH"
   },
   "source": [
    "$$M(X) = \\frac{a + b}{2}$$  тогда:"
   ]
  },
  {
   "cell_type": "code",
   "execution_count": 2,
   "metadata": {},
   "outputs": [
    {
     "data": {
      "text/plain": [
       "500.0"
      ]
     },
     "execution_count": 2,
     "metadata": {},
     "output_type": "execute_result"
    }
   ],
   "source": [
    "𝐷 = (200+800)/2\n",
    "D"
   ]
  },
  {
   "cell_type": "markdown",
   "metadata": {
    "id": "Fhn0ToAfi6VJ"
   },
   "source": [
    "По следующей формуле можно рассчитать дисперсию $D(X)$:"
   ]
  },
  {
   "cell_type": "markdown",
   "metadata": {
    "id": "zbBdqRj0i6VL"
   },
   "source": [
    "\n",
    "$$D(X) = \\frac{(b - a)^2}{12}$$ тогда:"
   ]
  },
  {
   "cell_type": "code",
   "execution_count": 3,
   "metadata": {},
   "outputs": [
    {
     "data": {
      "text/plain": [
       "30000.0"
      ]
     },
     "execution_count": 3,
     "metadata": {},
     "output_type": "execute_result"
    }
   ],
   "source": [
    "В = ((800-200)**2)/12\n",
    "В"
   ]
  },
  {
   "cell_type": "markdown",
   "metadata": {},
   "source": [
    "#### _2_ О случайной непрерывной равномерно распределенной величине B известно, что ее дисперсия равна 0.2. Можно ли найти правую границу величины B и ее среднее значение зная, что левая граница равна 0.5? Если да, найдите ее."
   ]
  },
  {
   "cell_type": "markdown",
   "metadata": {},
   "source": [
    "Имеем, $$0,2 = \\frac{(b - 0,5)^2}{12}$$ тогда  \n",
    "$$(b - 0,5) = \\sqrt{2.4}$$\n",
    "$$b = 0.5 + \\sqrt{2.4}$$  "
   ]
  },
  {
   "cell_type": "code",
   "execution_count": 4,
   "metadata": {},
   "outputs": [
    {
     "data": {
      "text/plain": [
       "2.049193338482967"
      ]
     },
     "execution_count": 4,
     "metadata": {},
     "output_type": "execute_result"
    }
   ],
   "source": [
    "b = 0.5 + np.sqrt(2.4)\n",
    "b"
   ]
  },
  {
   "cell_type": "markdown",
   "metadata": {},
   "source": [
    "А среднее значение равно:"
   ]
  },
  {
   "cell_type": "code",
   "execution_count": 5,
   "metadata": {},
   "outputs": [
    {
     "data": {
      "text/plain": [
       "1.2745966692414834"
      ]
     },
     "execution_count": 5,
     "metadata": {},
     "output_type": "execute_result"
    }
   ],
   "source": [
    "D = (0.5+np.sqrt(2.4)+0.5)/2\n",
    "D"
   ]
  },
  {
   "cell_type": "markdown",
   "metadata": {},
   "source": [
    "#### _3_ Непрерывная случайная величина X распределена нормально и задана плотностью распределения f(x) = (1 / (4 * sqrt(2*pi))) * (exp(-((x+2)**2) / 32))\n",
    "Найдите:  \n",
    "а). M(X)  \n",
    "б). D(X)  \n",
    "в). std(X) (среднее квадратичное отклонение)"
   ]
  },
  {
   "cell_type": "markdown",
   "metadata": {},
   "source": [
    "Вспомним, что:"
   ]
  },
  {
   "cell_type": "markdown",
   "metadata": {
    "id": "lqTqlCDai6VZ"
   },
   "source": [
    "$$f(x) = \\frac{1}{\\sigma \\sqrt{2 \\pi}} e ^ {- \\frac{(x - a)^2}{2 \\sigma^2}},$$"
   ]
  },
  {
   "cell_type": "markdown",
   "metadata": {
    "id": "gHiRniuYi6Vb"
   },
   "source": [
    "где $a = M(X), \\; \\sigma^2 = D(X).$  "
   ]
  },
  {
   "cell_type": "markdown",
   "metadata": {
    "id": "gHiRniuYi6Vb"
   },
   "source": [
    "тогда из этой формулы находим,  \n",
    "$M(X)= -2,$  \n",
    "$D(X)= 16,$  \n",
    "$std(X)= 4$\n"
   ]
  },
  {
   "cell_type": "markdown",
   "metadata": {},
   "source": [
    "#### _4_ Рост взрослого населения города X имеет нормальное распределение. Причем, средний рост равен 174 см, а среднее квадратичное отклонение равно 8 см. Какова вероятность того, что случайным образом выбранный взрослый человек имеет рост:\n",
    "#### а). больше 182 см  "
   ]
  },
  {
   "cell_type": "markdown",
   "metadata": {},
   "source": [
    "Используя правило трех сигм находим, что в промежутках: \n",
    "- $меньше -3\\sigma \\, $ состредоточено 0,14% зачений роста взрослого населения города X\n",
    "- $от -3\\sigma\\,до -2\\sigma$ состредоточено 2,16% зачений роста взрослого населения города X\n",
    "- $от -2\\sigma\\,до -1\\sigma$ состредоточено 13,7% зачений роста взрослого населения города X\n",
    "- $от -1\\sigma\\,до \\,0$ состредоточено 34% зачений роста взрослого населения города X\n",
    "- $от\\,0\\,до \\,1\\sigma$ состредоточено 34% зачений роста взрослого населения города X\n",
    "- $от\\,1\\sigma\\,до\\, 2\\sigma$ состредоточено 13,7% зачений роста взрослого населения города X\n",
    "- $от\\,2\\sigma\\,до\\, 3\\sigma$ состредоточено 2,16% зачений роста взрослого населения города X\n",
    "- $от\\,3\\sigma \\,и \\,больше \\,сигм $ состредоточено 0,14% зачений роста взрослого населения города X"
   ]
  },
  {
   "cell_type": "markdown",
   "metadata": {},
   "source": [
    "182 см соответсвует значению +2 сигме. Тогда доля людей имеющих рост больше 190 см равна 1-0,84 = 0,16. Это и будет вероятность того, что случайным образом выбранный взрослый человек имеет рост больше 182 см."
   ]
  },
  {
   "attachments": {},
   "cell_type": "markdown",
   "metadata": {},
   "source": [
    "Найдем данный показатель через Z таблицу.  "
   ]
  },
  {
   "cell_type": "code",
   "execution_count": 6,
   "metadata": {},
   "outputs": [
    {
     "data": {
      "text/plain": [
       "1.0"
      ]
     },
     "execution_count": 6,
     "metadata": {},
     "output_type": "execute_result"
    }
   ],
   "source": [
    "h = 182\n",
    "sigma = 8\n",
    "mu = 174\n",
    "Z = (h - mu) / sigma\n",
    "Z"
   ]
  },
  {
   "cell_type": "markdown",
   "metadata": {},
   "source": [
    "Для Z = 1 P = 0,8413. Тогда доля людей имеющих рост больше 182 см равна 1-0,8413 = 0,1587. Это и будет вероятность того, что случайным образом выбранный взрослый человек имеет рост больше 182 см."
   ]
  },
  {
   "cell_type": "markdown",
   "metadata": {},
   "source": [
    "Найдем данный показатель через вычисление определенного интеграла функции, которой задано это распределение"
   ]
  },
  {
   "cell_type": "code",
   "execution_count": 7,
   "metadata": {
    "scrolled": false
   },
   "outputs": [
    {
     "data": {
      "text/plain": [
       "(0.1586552539314517, 1.1010273516152101e-08)"
      ]
     },
     "execution_count": 7,
     "metadata": {},
     "output_type": "execute_result"
    }
   ],
   "source": [
    "from scipy import integrate\n",
    "func = lambda x: 1 / (8 * np.sqrt(2*np.pi)) * np.exp(-(((x-174)**2)/128))\n",
    "answer = integrate.quad(func, 182, np.inf)\n",
    "answer"
   ]
  },
  {
   "cell_type": "markdown",
   "metadata": {},
   "source": [
    "Видим, что все наши расчеты совпали с определеной долей погрешности"
   ]
  },
  {
   "cell_type": "markdown",
   "metadata": {},
   "source": [
    "#### б). больше 190 см  "
   ]
  },
  {
   "cell_type": "markdown",
   "metadata": {},
   "source": [
    "190 см соответсвует значению +1 сигме. Тогда доля людей имеющих рост больше 182 см равна 1-0,84-0,137 = 0,023. Это и будет вероятность того, что случайным образом выбранный взрослый человек имеет рост больше 190 см."
   ]
  },
  {
   "attachments": {},
   "cell_type": "markdown",
   "metadata": {},
   "source": [
    "Найдем данный показатель через Z таблицу.  "
   ]
  },
  {
   "cell_type": "code",
   "execution_count": 8,
   "metadata": {},
   "outputs": [
    {
     "data": {
      "text/plain": [
       "2.0"
      ]
     },
     "execution_count": 8,
     "metadata": {},
     "output_type": "execute_result"
    }
   ],
   "source": [
    "h = 190\n",
    "sigma = 8\n",
    "mu = 174\n",
    "Z = (h - mu) / sigma\n",
    "Z"
   ]
  },
  {
   "cell_type": "markdown",
   "metadata": {},
   "source": [
    "Для Z = 2 P = 0,9772. Тогда доля людей имеющих рост больше 190 см равна 1-0,9772 = 0,0228. Это и будет вероятность того, что случайным образом выбранный взрослый человек имеет рост больше 190 см."
   ]
  },
  {
   "cell_type": "markdown",
   "metadata": {},
   "source": [
    "Найдем данный показатель через вычисление определенного интеграла функции, которой задано это распределение"
   ]
  },
  {
   "cell_type": "code",
   "execution_count": 9,
   "metadata": {
    "scrolled": false
   },
   "outputs": [
    {
     "data": {
      "text/plain": [
       "0.0227501319481792"
      ]
     },
     "execution_count": 9,
     "metadata": {},
     "output_type": "execute_result"
    }
   ],
   "source": [
    "from scipy import integrate\n",
    "func = lambda x: 1 / (8 * np.sqrt(2*np.pi)) * np.exp(-(((x-174)**2)/128))\n",
    "answer = integrate.quad(func, 190, np.inf)\n",
    "answer[0]"
   ]
  },
  {
   "cell_type": "markdown",
   "metadata": {},
   "source": [
    "Видим, что все наши расчеты совпали с определеной долей погрешности"
   ]
  },
  {
   "cell_type": "markdown",
   "metadata": {},
   "source": [
    "#### в). от 166 см до 190 см  "
   ]
  },
  {
   "cell_type": "markdown",
   "metadata": {},
   "source": [
    "190 см соответсвует значению +2 сигмы, а 166 см соответсвует значению -1 сигме. Тогда доля людей имеющих рост от 166 см до 190 см равна 0,34 + 0,34 + 13,7 = 0,817. Это и будет вероятность того, что случайным образом выбранный взрослый человек имеет рост от 166 см до 190 см."
   ]
  },
  {
   "attachments": {},
   "cell_type": "markdown",
   "metadata": {},
   "source": [
    "Найдем данный показатель через Z таблицу.  "
   ]
  },
  {
   "cell_type": "code",
   "execution_count": 10,
   "metadata": {},
   "outputs": [
    {
     "data": {
      "text/plain": [
       "2.0"
      ]
     },
     "execution_count": 10,
     "metadata": {},
     "output_type": "execute_result"
    }
   ],
   "source": [
    "h = 190\n",
    "sigma = 8\n",
    "mu = 174\n",
    "Z = (h - mu) / sigma\n",
    "Z"
   ]
  },
  {
   "cell_type": "code",
   "execution_count": 11,
   "metadata": {},
   "outputs": [
    {
     "data": {
      "text/plain": [
       "-1.0"
      ]
     },
     "execution_count": 11,
     "metadata": {},
     "output_type": "execute_result"
    }
   ],
   "source": [
    "h = 166\n",
    "sigma = 8\n",
    "mu = 174\n",
    "Z = (h - mu) / sigma\n",
    "Z"
   ]
  },
  {
   "cell_type": "markdown",
   "metadata": {},
   "source": [
    "Для Z = 2 P = 0,9772, а для Z = -1, P = 0,1587. Тогда доля людей имеющих рост от 166 см до 190 см равна 0,9772 - 0,1587  = 0,8185. Это и будет вероятность того, что случайным образом выбранный взрослый человек имеет рост от 166 см до 190 см."
   ]
  },
  {
   "cell_type": "markdown",
   "metadata": {},
   "source": [
    "Найдем данный показатель через вычисление определенного интеграла функции, которой задано это распределение"
   ]
  },
  {
   "cell_type": "code",
   "execution_count": 12,
   "metadata": {
    "scrolled": false
   },
   "outputs": [
    {
     "data": {
      "text/plain": [
       "0.8185946141203638"
      ]
     },
     "execution_count": 12,
     "metadata": {},
     "output_type": "execute_result"
    }
   ],
   "source": [
    "from scipy import integrate\n",
    "func = lambda x: 1 / (8 * np.sqrt(2*np.pi)) * np.exp(-(((x-174)**2)/128))\n",
    "answer = integrate.quad(func, 166, 190)\n",
    "answer[0]"
   ]
  },
  {
   "cell_type": "markdown",
   "metadata": {},
   "source": [
    "Видим, что все наши расчеты совпали с определеной долей погрешности"
   ]
  },
  {
   "cell_type": "markdown",
   "metadata": {},
   "source": [
    "#### г). от 166 см до 182 см  "
   ]
  },
  {
   "cell_type": "markdown",
   "metadata": {},
   "source": [
    "182 см соответсвует значению +1 сигме, а 166 см соответсвует значению -1 сигме. Тогда доля людей имеющих рост от 166 см до 182 см равна 0,34 + 0,34 = 0,68. Это и будет вероятность того, что случайным образом выбранный взрослый человек имеет рост от 166 см до 182 см."
   ]
  },
  {
   "attachments": {},
   "cell_type": "markdown",
   "metadata": {},
   "source": [
    "Найдем данный показатель через Z таблицу.  "
   ]
  },
  {
   "cell_type": "code",
   "execution_count": 13,
   "metadata": {},
   "outputs": [
    {
     "data": {
      "text/plain": [
       "1.0"
      ]
     },
     "execution_count": 13,
     "metadata": {},
     "output_type": "execute_result"
    }
   ],
   "source": [
    "h = 182\n",
    "sigma = 8\n",
    "mu = 174\n",
    "Z = (h - mu) / sigma\n",
    "Z"
   ]
  },
  {
   "cell_type": "code",
   "execution_count": 14,
   "metadata": {},
   "outputs": [
    {
     "data": {
      "text/plain": [
       "-1.0"
      ]
     },
     "execution_count": 14,
     "metadata": {},
     "output_type": "execute_result"
    }
   ],
   "source": [
    "h = 166\n",
    "sigma = 8\n",
    "mu = 174\n",
    "Z = (h - mu) / sigma\n",
    "Z"
   ]
  },
  {
   "cell_type": "markdown",
   "metadata": {},
   "source": [
    "Для Z = 1 P = 0,8413, а для Z = -1, P = 0,1587. Тогда доля людей имеющих рост от 166 см до 182 см равна 0,8413 - 0,1587  = 0,6826. Это и будет вероятность того, что случайным образом выбранный взрослый человек имеет рост от 166 см до 182 см."
   ]
  },
  {
   "cell_type": "markdown",
   "metadata": {},
   "source": [
    "Найдем данный показатель через вычисление определенного интеграла функции, которой задано это распределение"
   ]
  },
  {
   "cell_type": "code",
   "execution_count": 15,
   "metadata": {
    "scrolled": false
   },
   "outputs": [
    {
     "data": {
      "text/plain": [
       "0.682689492137086"
      ]
     },
     "execution_count": 15,
     "metadata": {},
     "output_type": "execute_result"
    }
   ],
   "source": [
    "from scipy import integrate\n",
    "func = lambda x: 1 / (8 * np.sqrt(2*np.pi)) * np.exp(-(((x-174)**2)/128))\n",
    "answer = integrate.quad(func, 166, 182)\n",
    "answer[0]"
   ]
  },
  {
   "cell_type": "markdown",
   "metadata": {},
   "source": [
    "Видим, что все наши расчеты совпали с определеной долей погрешности"
   ]
  },
  {
   "cell_type": "markdown",
   "metadata": {},
   "source": [
    "#### д). от 158 см до 190 см  "
   ]
  },
  {
   "cell_type": "markdown",
   "metadata": {},
   "source": [
    "158 см соответсвует значению -2 сигмам, а 190 см соответсвует значению +2 сигмам. Тогда доля людей имеющих рост от 158 см до 190 см равна 0,34 + 0,34 + 13,7 + 13,7= 0,954. Это и будет вероятность того, что случайным образом выбранный взрослый человек имеет рост от 158 см до 190 см."
   ]
  },
  {
   "attachments": {},
   "cell_type": "markdown",
   "metadata": {},
   "source": [
    "Найдем данный показатель через Z таблицу.  "
   ]
  },
  {
   "cell_type": "code",
   "execution_count": 16,
   "metadata": {},
   "outputs": [
    {
     "data": {
      "text/plain": [
       "-2.0"
      ]
     },
     "execution_count": 16,
     "metadata": {},
     "output_type": "execute_result"
    }
   ],
   "source": [
    "h = 158\n",
    "sigma = 8\n",
    "mu = 174\n",
    "Z = (h - mu) / sigma\n",
    "Z"
   ]
  },
  {
   "cell_type": "code",
   "execution_count": 17,
   "metadata": {},
   "outputs": [
    {
     "data": {
      "text/plain": [
       "2.0"
      ]
     },
     "execution_count": 17,
     "metadata": {},
     "output_type": "execute_result"
    }
   ],
   "source": [
    "h = 190\n",
    "sigma = 8\n",
    "mu = 174\n",
    "Z = (h - mu) / sigma\n",
    "Z"
   ]
  },
  {
   "cell_type": "markdown",
   "metadata": {},
   "source": [
    "Для Z = -2 P = 0,0228, а для Z = 2, P = 0,9772. Тогда доля людей имеющих рост от 158 см до 190 см равна 0,9772 - 0,0228  = 0,9544. Это и будет вероятность того, что случайным образом выбранный взрослый человек имеет рост от 158 см до 190 см."
   ]
  },
  {
   "cell_type": "markdown",
   "metadata": {},
   "source": [
    "Найдем данный показатель через вычисление определенного интеграла функции, которой задано это распределение"
   ]
  },
  {
   "cell_type": "code",
   "execution_count": 18,
   "metadata": {
    "scrolled": false
   },
   "outputs": [
    {
     "data": {
      "text/plain": [
       "0.9544997361036412"
      ]
     },
     "execution_count": 18,
     "metadata": {},
     "output_type": "execute_result"
    }
   ],
   "source": [
    "from scipy import integrate\n",
    "func = lambda x: 1 / (8 * np.sqrt(2*np.pi)) * np.exp(-(((x-174)**2)/128))\n",
    "answer = integrate.quad(func, 158, 190)\n",
    "answer[0]"
   ]
  },
  {
   "cell_type": "markdown",
   "metadata": {},
   "source": [
    "Видим, что все наши расчеты совпали с определеной долей погрешности"
   ]
  },
  {
   "cell_type": "markdown",
   "metadata": {},
   "source": [
    "#### е). не выше 150 см или не ниже 190 см  "
   ]
  },
  {
   "cell_type": "markdown",
   "metadata": {},
   "source": [
    "190 см соответсвует значению +2 сигме, а 150 см соответсвует значению -3 сигм. Тогда доля людей имеющих рост не выше 150 см или не ниже 190 см равна 0,0014 + 0,023 = 0,0244. Это и будет вероятность того, что случайным образом выбранный взрослый человек имеет рост не выше 150 см или не ниже 190 см."
   ]
  },
  {
   "attachments": {},
   "cell_type": "markdown",
   "metadata": {},
   "source": [
    "Найдем данный показатель через Z таблицу.  "
   ]
  },
  {
   "cell_type": "code",
   "execution_count": 19,
   "metadata": {},
   "outputs": [
    {
     "data": {
      "text/plain": [
       "-3.0"
      ]
     },
     "execution_count": 19,
     "metadata": {},
     "output_type": "execute_result"
    }
   ],
   "source": [
    "h = 150\n",
    "sigma = 8\n",
    "mu = 174\n",
    "Z = (h - mu) / sigma\n",
    "Z"
   ]
  },
  {
   "cell_type": "code",
   "execution_count": 20,
   "metadata": {},
   "outputs": [
    {
     "data": {
      "text/plain": [
       "2.0"
      ]
     },
     "execution_count": 20,
     "metadata": {},
     "output_type": "execute_result"
    }
   ],
   "source": [
    "h = 190\n",
    "sigma = 8\n",
    "mu = 174\n",
    "Z = (h - mu) / sigma\n",
    "Z"
   ]
  },
  {
   "cell_type": "markdown",
   "metadata": {},
   "source": [
    "Для Z = -3 P = 0,0014, а для Z = 2, P = 0,9772. Тогда доля людей имеющих рост не выше 150 см или не ниже 190 см равна 0,0014 + (1 - 0,9772)  = 0,0242. Это и будет вероятность того, что случайным образом выбранный взрослый человек имеет рост не выше 150 см или не ниже 190 см."
   ]
  },
  {
   "cell_type": "markdown",
   "metadata": {},
   "source": [
    "Найдем данный показатель через вычисление определенного интеграла функции, которой задано это распределение"
   ]
  },
  {
   "cell_type": "code",
   "execution_count": 21,
   "metadata": {
    "scrolled": false
   },
   "outputs": [
    {
     "data": {
      "text/plain": [
       "0.02410002997980929"
      ]
     },
     "execution_count": 21,
     "metadata": {},
     "output_type": "execute_result"
    }
   ],
   "source": [
    "from scipy import integrate\n",
    "func = lambda x: 1 / (8 * np.sqrt(2*np.pi)) * np.exp(-(((x-174)**2)/128))\n",
    "answer_1 = integrate.quad(func, 0, 150)\n",
    "answer_2 = integrate.quad(func, 190, np.inf)\n",
    "answer_1[0] + answer_2[0]"
   ]
  },
  {
   "cell_type": "markdown",
   "metadata": {},
   "source": [
    "Видим, что все наши расчеты совпали с определеной долей погрешности"
   ]
  },
  {
   "cell_type": "markdown",
   "metadata": {},
   "source": [
    "#### ё). не выше 150 см или не ниже 198 см  "
   ]
  },
  {
   "cell_type": "markdown",
   "metadata": {},
   "source": [
    "198 см соответсвует значению +3 сигме, а 150 см соответсвует значению -3 сигм. Тогда доля людей имеющих рост не выше 150 см или не ниже 198 см равна 0,0014 + 0,0014 = 0,0028. Это и будет вероятность того, что случайным образом выбранный взрослый человек имеет рост не выше 150 см или не ниже 198 см."
   ]
  },
  {
   "attachments": {},
   "cell_type": "markdown",
   "metadata": {},
   "source": [
    "Найдем данный показатель через Z таблицу.  "
   ]
  },
  {
   "cell_type": "code",
   "execution_count": 22,
   "metadata": {},
   "outputs": [
    {
     "data": {
      "text/plain": [
       "-3.0"
      ]
     },
     "execution_count": 22,
     "metadata": {},
     "output_type": "execute_result"
    }
   ],
   "source": [
    "h = 150\n",
    "sigma = 8\n",
    "mu = 174\n",
    "Z = (h - mu) / sigma\n",
    "Z"
   ]
  },
  {
   "cell_type": "code",
   "execution_count": 23,
   "metadata": {},
   "outputs": [
    {
     "data": {
      "text/plain": [
       "3.0"
      ]
     },
     "execution_count": 23,
     "metadata": {},
     "output_type": "execute_result"
    }
   ],
   "source": [
    "h = 198\n",
    "sigma = 8\n",
    "mu = 174\n",
    "Z = (h - mu) / sigma\n",
    "Z"
   ]
  },
  {
   "cell_type": "markdown",
   "metadata": {},
   "source": [
    "Для Z = -3 P = 0,0014, а для Z = 2, P = 0,9987. Тогда доля людей имеющих рост не выше 150 см или не ниже 198 см равна 0,0014 + (1 - 0,9987)  = 0,0027. Это и будет вероятность того, что случайным образом выбранный взрослый человек имеет рост не выше 150 см или не ниже 198 см."
   ]
  },
  {
   "cell_type": "markdown",
   "metadata": {},
   "source": [
    "Найдем данный показатель через вычисление определенного интеграла функции, которой задано это распределение"
   ]
  },
  {
   "cell_type": "code",
   "execution_count": 24,
   "metadata": {
    "scrolled": false
   },
   "outputs": [
    {
     "data": {
      "text/plain": [
       "0.002699796063253696"
      ]
     },
     "execution_count": 24,
     "metadata": {},
     "output_type": "execute_result"
    }
   ],
   "source": [
    "from scipy import integrate\n",
    "func = lambda x: 1 / (8 * np.sqrt(2*np.pi)) * np.exp(-(((x-174)**2)/128))\n",
    "answer_1 = integrate.quad(func, 0, 150)\n",
    "answer_2 = integrate.quad(func, 198, np.inf)\n",
    "answer_1[0] + answer_2[0]"
   ]
  },
  {
   "cell_type": "markdown",
   "metadata": {},
   "source": [
    "Видим, что все наши расчеты совпали с определеной долей погрешности"
   ]
  },
  {
   "cell_type": "markdown",
   "metadata": {},
   "source": [
    "#### ж). ниже 166 см.  "
   ]
  },
  {
   "cell_type": "markdown",
   "metadata": {},
   "source": [
    "166 см соответсвует значению -1 сигме. Тогда доля людей имеющих рост ниже 166 см равна 0,137 + 0,0216 + 0,0014 = 0,16. Это и будет вероятность того, что случайным образом выбранный взрослый человек имеет рост ниже 166 см."
   ]
  },
  {
   "attachments": {},
   "cell_type": "markdown",
   "metadata": {},
   "source": [
    "Найдем данный показатель через Z таблицу.  "
   ]
  },
  {
   "cell_type": "code",
   "execution_count": 25,
   "metadata": {},
   "outputs": [
    {
     "data": {
      "text/plain": [
       "-1.0"
      ]
     },
     "execution_count": 25,
     "metadata": {},
     "output_type": "execute_result"
    }
   ],
   "source": [
    "h = 166\n",
    "sigma = 8\n",
    "mu = 174\n",
    "Z = (h - mu) / sigma\n",
    "Z"
   ]
  },
  {
   "cell_type": "markdown",
   "metadata": {},
   "source": [
    "Для Z = -1 P = 0,1587. Тогда доля людей имеющих рост ниже 166 см равна 0,1587. Это и будет вероятность того, что случайным образом выбранный взрослый человек имеет рост ниже 166 см."
   ]
  },
  {
   "cell_type": "markdown",
   "metadata": {},
   "source": [
    "Найдем данный показатель через вычисление определенного интеграла функции, которой задано это распределение"
   ]
  },
  {
   "cell_type": "code",
   "execution_count": 26,
   "metadata": {
    "scrolled": false
   },
   "outputs": [
    {
     "data": {
      "text/plain": [
       "(0.15865525393145702, 2.7539657010815254e-10)"
      ]
     },
     "execution_count": 26,
     "metadata": {},
     "output_type": "execute_result"
    }
   ],
   "source": [
    "from scipy import integrate\n",
    "func = lambda x: 1 / (8 * np.sqrt(2*np.pi)) * np.exp(-(((x-174)**2)/128))\n",
    "answer = integrate.quad(func, 0, 166)\n",
    "answer"
   ]
  },
  {
   "cell_type": "markdown",
   "metadata": {},
   "source": [
    "Видим, что все наши расчеты совпали с определеной долей погрешности"
   ]
  },
  {
   "cell_type": "markdown",
   "metadata": {},
   "source": [
    "#### _5_ На сколько сигм (средних квадратичных отклонений) отклоняется рост человека, равный 190 см, от математического ожидания роста в популяции, в которой M(X) = 178 см и D(X) = 25 кв.см?"
   ]
  },
  {
   "cell_type": "markdown",
   "metadata": {},
   "source": [
    "Имеем:  \n",
    "$M(X) = 178$   \n",
    "$\\sigma = \\sqrt{25} = 5$  \n",
    "Тогда рост человека, равный 190 см отклоняется от математического ожидания роста в популяции на $(190 - 178)/5 = +2,4\\sigma$"
   ]
  }
 ],
 "metadata": {
  "kernelspec": {
   "display_name": "Python 3",
   "language": "python",
   "name": "python3"
  },
  "language_info": {
   "codemirror_mode": {
    "name": "ipython",
    "version": 3
   },
   "file_extension": ".py",
   "mimetype": "text/x-python",
   "name": "python",
   "nbconvert_exporter": "python",
   "pygments_lexer": "ipython3",
   "version": "3.7.4"
  }
 },
 "nbformat": 4,
 "nbformat_minor": 2
}
